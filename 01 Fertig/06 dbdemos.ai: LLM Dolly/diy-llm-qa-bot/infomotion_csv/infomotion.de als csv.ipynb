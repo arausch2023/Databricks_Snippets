{
 "cells": [
  {
   "cell_type": "code",
   "execution_count": 0,
   "metadata": {
    "application/vnd.databricks.v1+cell": {
     "cellMetadata": {},
     "inputWidgets": {},
     "nuid": "3cca591a-c7b0-4471-a848-06aab4670336",
     "showTitle": false,
     "title": ""
    }
   },
   "outputs": [],
   "source": [
    "import os\n",
    "\n",
    "from bs4 import BeautifulSoup\n",
    "import requests\n",
    "\n",
    "import pandas as pd\n",
    "\n",
    "if os.path.exists('infomotion.csv'):\n",
    "    os.remove('infomotion.csv')\n",
    "  \n",
    "def scan_csv_files(folder_path):  \n",
    "    for filename in os.listdir(folder_path):  \n",
    "        file_path = os.path.join(folder_path, filename)  \n",
    "        if os.path.isdir(file_path):  \n",
    "            scan_csv_files(file_path) # rekursiver Aufruf der Funktion, wenn der Eintrag ein Ordner ist  \n",
    "        elif filename.endswith('.html'):            \n",
    "            print(\"HTML-Datei gefunden:\", file_path)\n",
    "            \n",
    "            # Assign URL\n",
    "            url = file_path\n",
    "            #print(url)\n",
    "            \n",
    "            with open(file_path , 'rb') as html:\n",
    "                soup = BeautifulSoup(html)\n",
    "                                    \n",
    "            title = soup.find('title')\n",
    "            display(title.string)\n",
    "            \n",
    "            # In hmtl-Title kommt oft noch \" | INFOMOTION\" am Ende, das nehmen wir raus\n",
    "            title_string = title.string.replace(\" | INFOMOTION\", \"\")\n",
    "            \n",
    "            # Die URL ersetzen wir durch die richtige URL\n",
    "            url_string = url.replace(\"D:\\infomotion_website\\infomotion\\www.infomotion.de\", \"https://www.infomotion.de\")\n",
    "            # Backslash \\ durch Slash / ersetzen\n",
    "            url_string = url_string.replace(os.sep, \"/\")\n",
    "            # Dateinamenendung \".html\" entfernen\n",
    "            url_string = url_string.replace(\".html\", \"\")\n",
    "            print(url_string)\n",
    "            \n",
    "            texts = soup.find_all('p')            \n",
    "            df = pd.DataFrame(texts, columns=['Text'])\n",
    "            df['Kategorie'] = title_string\n",
    "            df['Source'] = url_string\n",
    "            \n",
    "            try:\n",
    "                for index, row in df.iterrows():\n",
    "                    r = row['Text'].get_text().split()\n",
    "                    if len(r) == 1:\n",
    "                        df.drop(index, inplace=True)\n",
    "            except:\n",
    "                pass\n",
    "                       \n",
    "            #in infomotion.csv Text + Kategorie + Source schreiben im Append-Modus\n",
    "            df.to_csv('infomotion.csv', mode='a', header = True, index = False, sep = '|')\n",
    "\n",
    "            \n",
    "folder_path = \"D:\\infomotion_website\\infomotion\" # Ersetze \"Pfad zum Ordner\" durch den Pfad zu deinem Ordner  \n",
    "scan_csv_files(folder_path)  \n"
   ]
  }
 ],
 "metadata": {
  "application/vnd.databricks.v1+notebook": {
   "dashboards": [],
   "language": "python",
   "notebookMetadata": {
    "pythonIndentUnit": 4
   },
   "notebookName": "infomotion.de als csv",
   "widgets": {}
  },
  "kernelspec": {
   "display_name": "Python 3 (ipykernel)",
   "language": "python",
   "name": "python3"
  },
  "language_info": {
   "codemirror_mode": {
    "name": "ipython",
    "version": 3
   },
   "file_extension": ".py",
   "mimetype": "text/x-python",
   "name": "python",
   "nbconvert_exporter": "python",
   "pygments_lexer": "ipython3",
   "version": "3.9.7"
  }
 },
 "nbformat": 4,
 "nbformat_minor": 0
}
